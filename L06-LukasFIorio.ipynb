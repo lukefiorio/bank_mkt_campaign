{
 "cells": [
  {
   "cell_type": "markdown",
   "metadata": {},
   "source": [
    "# Lesson 6 - Random Forest\n",
    "\n",
    "## Author - Lukas Fiorio"
   ]
  },
  {
   "cell_type": "markdown",
   "metadata": {},
   "source": [
    "## Instructions\n",
    "\n",
    "- Read data\n",
    "- Explore the data\n",
    "- Split data into train/validate/test\n",
    "- Compare Rnadom Forest & Desicison Trees\n",
    "  - Performance\n",
    "  - Feature Importance\n",
    "- Evaluate on the test set\n",
    "- Summarize findings and make a recommendation"
   ]
  },
  {
   "cell_type": "code",
   "execution_count": 1,
   "metadata": {},
   "outputs": [],
   "source": [
    "# Import libraries\n",
    "import pandas as pd\n",
    "import numpy as np\n",
    "import matplotlib.pyplot as plt\n",
    "import seaborn as sns\n",
    "import math\n",
    "\n",
    "from sklearn.model_selection import train_test_split\n",
    "from sklearn.preprocessing import OneHotEncoder\n",
    "from sklearn.tree import DecisionTreeClassifier\n",
    "from sklearn.ensemble import RandomForestClassifier as rfc\n",
    "from sklearn.metrics import confusion_matrix\n",
    "from sklearn.metrics import f1_score\n",
    "from sklearn.metrics import precision_score\n",
    "from sklearn.metrics import recall_score\n",
    "from sklearn.metrics import accuracy_score\n",
    "from sklearn.metrics import classification_report\n",
    "\n",
    "from sklearn import tree\n",
    "from IPython.display import display\n",
    "from itertools import product"
   ]
  },
  {
   "cell_type": "code",
   "execution_count": 2,
   "metadata": {},
   "outputs": [],
   "source": [
    "# set package options\n",
    "pd.set_option('display.max_columns', None) # show all columns"
   ]
  },
  {
   "cell_type": "markdown",
   "metadata": {},
   "source": [
    "### Load data\n",
    "\n",
    "- note: headers in first row of csv"
   ]
  },
  {
   "cell_type": "code",
   "execution_count": 3,
   "metadata": {},
   "outputs": [],
   "source": [
    "# read file into df\n",
    "file = \"https://library.startlearninglabs.uw.edu/DATASCI420/2019/Datasets/Bank%20Data.csv\"\n",
    "bank_df = pd.read_csv(file, header = 0)"
   ]
  },
  {
   "cell_type": "markdown",
   "metadata": {},
   "source": [
    "Based on preview of the data, it looks like there are a couple of numeric fields (`age`, `income`, `children`), but mostly categorical."
   ]
  },
  {
   "cell_type": "code",
   "execution_count": 4,
   "metadata": {},
   "outputs": [
    {
     "data": {
      "text/html": [
       "<div>\n",
       "<style scoped>\n",
       "    .dataframe tbody tr th:only-of-type {\n",
       "        vertical-align: middle;\n",
       "    }\n",
       "\n",
       "    .dataframe tbody tr th {\n",
       "        vertical-align: top;\n",
       "    }\n",
       "\n",
       "    .dataframe thead th {\n",
       "        text-align: right;\n",
       "    }\n",
       "</style>\n",
       "<table border=\"1\" class=\"dataframe\">\n",
       "  <thead>\n",
       "    <tr style=\"text-align: right;\">\n",
       "      <th></th>\n",
       "      <th>age</th>\n",
       "      <th>sex</th>\n",
       "      <th>region</th>\n",
       "      <th>income</th>\n",
       "      <th>married</th>\n",
       "      <th>children</th>\n",
       "      <th>car</th>\n",
       "      <th>save_act</th>\n",
       "      <th>current_act</th>\n",
       "      <th>mortgage</th>\n",
       "      <th>pep</th>\n",
       "    </tr>\n",
       "  </thead>\n",
       "  <tbody>\n",
       "    <tr>\n",
       "      <th>0</th>\n",
       "      <td>48</td>\n",
       "      <td>FEMALE</td>\n",
       "      <td>INNER_CITY</td>\n",
       "      <td>17546.0</td>\n",
       "      <td>NO</td>\n",
       "      <td>1</td>\n",
       "      <td>NO</td>\n",
       "      <td>NO</td>\n",
       "      <td>NO</td>\n",
       "      <td>NO</td>\n",
       "      <td>YES</td>\n",
       "    </tr>\n",
       "    <tr>\n",
       "      <th>1</th>\n",
       "      <td>40</td>\n",
       "      <td>MALE</td>\n",
       "      <td>TOWN</td>\n",
       "      <td>30085.1</td>\n",
       "      <td>YES</td>\n",
       "      <td>3</td>\n",
       "      <td>YES</td>\n",
       "      <td>NO</td>\n",
       "      <td>YES</td>\n",
       "      <td>YES</td>\n",
       "      <td>NO</td>\n",
       "    </tr>\n",
       "    <tr>\n",
       "      <th>2</th>\n",
       "      <td>51</td>\n",
       "      <td>FEMALE</td>\n",
       "      <td>INNER_CITY</td>\n",
       "      <td>16575.4</td>\n",
       "      <td>YES</td>\n",
       "      <td>0</td>\n",
       "      <td>YES</td>\n",
       "      <td>YES</td>\n",
       "      <td>YES</td>\n",
       "      <td>NO</td>\n",
       "      <td>NO</td>\n",
       "    </tr>\n",
       "    <tr>\n",
       "      <th>3</th>\n",
       "      <td>23</td>\n",
       "      <td>FEMALE</td>\n",
       "      <td>TOWN</td>\n",
       "      <td>20375.4</td>\n",
       "      <td>YES</td>\n",
       "      <td>3</td>\n",
       "      <td>NO</td>\n",
       "      <td>NO</td>\n",
       "      <td>YES</td>\n",
       "      <td>NO</td>\n",
       "      <td>NO</td>\n",
       "    </tr>\n",
       "    <tr>\n",
       "      <th>4</th>\n",
       "      <td>57</td>\n",
       "      <td>FEMALE</td>\n",
       "      <td>RURAL</td>\n",
       "      <td>50576.3</td>\n",
       "      <td>YES</td>\n",
       "      <td>0</td>\n",
       "      <td>NO</td>\n",
       "      <td>YES</td>\n",
       "      <td>NO</td>\n",
       "      <td>NO</td>\n",
       "      <td>NO</td>\n",
       "    </tr>\n",
       "  </tbody>\n",
       "</table>\n",
       "</div>"
      ],
      "text/plain": [
       "   age     sex      region   income married  children  car save_act  \\\n",
       "0   48  FEMALE  INNER_CITY  17546.0      NO         1   NO       NO   \n",
       "1   40    MALE        TOWN  30085.1     YES         3  YES       NO   \n",
       "2   51  FEMALE  INNER_CITY  16575.4     YES         0  YES      YES   \n",
       "3   23  FEMALE        TOWN  20375.4     YES         3   NO       NO   \n",
       "4   57  FEMALE       RURAL  50576.3     YES         0   NO      YES   \n",
       "\n",
       "  current_act mortgage  pep  \n",
       "0          NO       NO  YES  \n",
       "1         YES      YES   NO  \n",
       "2         YES       NO   NO  \n",
       "3         YES       NO   NO  \n",
       "4          NO       NO   NO  "
      ]
     },
     "execution_count": 4,
     "metadata": {},
     "output_type": "execute_result"
    }
   ],
   "source": [
    "bank_df.head() # preview data"
   ]
  },
  {
   "cell_type": "markdown",
   "metadata": {},
   "source": [
    "We get confirmation here of object columns (other than `age`, `income`, `children`).  We also see no missing values."
   ]
  },
  {
   "cell_type": "code",
   "execution_count": 5,
   "metadata": {
    "scrolled": true
   },
   "outputs": [
    {
     "name": "stdout",
     "output_type": "stream",
     "text": [
      "<class 'pandas.core.frame.DataFrame'>\n",
      "RangeIndex: 600 entries, 0 to 599\n",
      "Data columns (total 11 columns):\n",
      " #   Column       Non-Null Count  Dtype  \n",
      "---  ------       --------------  -----  \n",
      " 0   age          600 non-null    int64  \n",
      " 1   sex          600 non-null    object \n",
      " 2   region       600 non-null    object \n",
      " 3   income       600 non-null    float64\n",
      " 4   married      600 non-null    object \n",
      " 5   children     600 non-null    int64  \n",
      " 6   car          600 non-null    object \n",
      " 7   save_act     600 non-null    object \n",
      " 8   current_act  600 non-null    object \n",
      " 9   mortgage     600 non-null    object \n",
      " 10  pep          600 non-null    object \n",
      "dtypes: float64(1), int64(2), object(8)\n",
      "memory usage: 51.7+ KB\n"
     ]
    }
   ],
   "source": [
    "bank_df.info() # examine data structure"
   ]
  },
  {
   "cell_type": "markdown",
   "metadata": {},
   "source": [
    "Define a function to loop through and create count plots based on an inputted data frame & list of columns."
   ]
  },
  {
   "cell_type": "code",
   "execution_count": 6,
   "metadata": {},
   "outputs": [],
   "source": [
    "def count_plots(df, col_list, n_cols):\n",
    "    \n",
    "    # deduce nbr of rows needed for plot\n",
    "    n_rows = math.ceil(len(col_list) / n_cols)\n",
    "\n",
    "    # set figure, axis properties\n",
    "    fig, ax = plt.subplots(ncols = n_cols, nrows = n_rows)\n",
    "    fig.set_size_inches(16, 2.5 * n_rows)\n",
    "    fig.tight_layout(h_pad = 6, w_pad = 12)\n",
    "\n",
    "    # loop through each column & plot\n",
    "    for i, col in enumerate(col_list):\n",
    "        \n",
    "        # compute row, col index\n",
    "        i_row = math.floor(i/2)\n",
    "        i_col = i % 2\n",
    "        \n",
    "        # make plots\n",
    "        sns.countplot(y = df[col], ax = ax[i_row][i_col]); # check dist of target (continous)\n",
    "        ax[i_row][i_col].title.set_text('# of cust, by ' + col);"
   ]
  },
  {
   "cell_type": "markdown",
   "metadata": {},
   "source": [
    "Loop through object columns and visually inspect each of their distributions.\n",
    "\n",
    "- We'll need to one-hot encode these columns.  Only `region` is not binary.\n",
    "- We also notice that `pep` has relatively even class balance."
   ]
  },
  {
   "cell_type": "code",
   "execution_count": 7,
   "metadata": {},
   "outputs": [
    {
     "data": {
      "image/png": "[encoded data removed]",
      "text/plain": [
       "<Figure size 1152x720 with 8 Axes>"
      ]
     },
     "metadata": {
      "needs_background": "light"
     },
     "output_type": "display_data"
    }
   ],
   "source": [
    "obj_cols = bank_df.select_dtypes('object').columns.to_list()\n",
    "count_plots(bank_df, obj_cols, 2)"
   ]
  },
  {
   "cell_type": "markdown",
   "metadata": {},
   "source": [
    "In this case, we will apply one hot encoding prior to splitting into train/validate/test sets because our data appear to fit a very pre-defined structure.  Normally, it is better practice to apply onehot encoding after splitting your data, in case new classes appear in the test set.\n",
    "\n",
    "- Note `drop = 'first'` will drop the first class from each column (removes linear dependence)."
   ]
  },
  {
   "cell_type": "code",
   "execution_count": 8,
   "metadata": {},
   "outputs": [
    {
     "data": {
      "text/html": [
       "<div>\n",
       "<style scoped>\n",
       "    .dataframe tbody tr th:only-of-type {\n",
       "        vertical-align: middle;\n",
       "    }\n",
       "\n",
       "    .dataframe tbody tr th {\n",
       "        vertical-align: top;\n",
       "    }\n",
       "\n",
       "    .dataframe thead th {\n",
       "        text-align: right;\n",
       "    }\n",
       "</style>\n",
       "<table border=\"1\" class=\"dataframe\">\n",
       "  <thead>\n",
       "    <tr style=\"text-align: right;\">\n",
       "      <th></th>\n",
       "      <th>sex_MALE</th>\n",
       "      <th>region_RURAL</th>\n",
       "      <th>region_SUBURBAN</th>\n",
       "      <th>region_TOWN</th>\n",
       "      <th>married</th>\n",
       "      <th>car</th>\n",
       "      <th>save_act</th>\n",
       "      <th>current_act</th>\n",
       "      <th>mortgage</th>\n",
       "      <th>pep</th>\n",
       "    </tr>\n",
       "  </thead>\n",
       "  <tbody>\n",
       "    <tr>\n",
       "      <th>0</th>\n",
       "      <td>0.0</td>\n",
       "      <td>0.0</td>\n",
       "      <td>0.0</td>\n",
       "      <td>0.0</td>\n",
       "      <td>0.0</td>\n",
       "      <td>0.0</td>\n",
       "      <td>0.0</td>\n",
       "      <td>0.0</td>\n",
       "      <td>0.0</td>\n",
       "      <td>1.0</td>\n",
       "    </tr>\n",
       "    <tr>\n",
       "      <th>1</th>\n",
       "      <td>1.0</td>\n",
       "      <td>0.0</td>\n",
       "      <td>0.0</td>\n",
       "      <td>1.0</td>\n",
       "      <td>1.0</td>\n",
       "      <td>1.0</td>\n",
       "      <td>0.0</td>\n",
       "      <td>1.0</td>\n",
       "      <td>1.0</td>\n",
       "      <td>0.0</td>\n",
       "    </tr>\n",
       "    <tr>\n",
       "      <th>2</th>\n",
       "      <td>0.0</td>\n",
       "      <td>0.0</td>\n",
       "      <td>0.0</td>\n",
       "      <td>0.0</td>\n",
       "      <td>1.0</td>\n",
       "      <td>1.0</td>\n",
       "      <td>1.0</td>\n",
       "      <td>1.0</td>\n",
       "      <td>0.0</td>\n",
       "      <td>0.0</td>\n",
       "    </tr>\n",
       "    <tr>\n",
       "      <th>3</th>\n",
       "      <td>0.0</td>\n",
       "      <td>0.0</td>\n",
       "      <td>0.0</td>\n",
       "      <td>1.0</td>\n",
       "      <td>1.0</td>\n",
       "      <td>0.0</td>\n",
       "      <td>0.0</td>\n",
       "      <td>1.0</td>\n",
       "      <td>0.0</td>\n",
       "      <td>0.0</td>\n",
       "    </tr>\n",
       "    <tr>\n",
       "      <th>4</th>\n",
       "      <td>0.0</td>\n",
       "      <td>1.0</td>\n",
       "      <td>0.0</td>\n",
       "      <td>0.0</td>\n",
       "      <td>1.0</td>\n",
       "      <td>0.0</td>\n",
       "      <td>1.0</td>\n",
       "      <td>0.0</td>\n",
       "      <td>0.0</td>\n",
       "      <td>0.0</td>\n",
       "    </tr>\n",
       "  </tbody>\n",
       "</table>\n",
       "</div>"
      ],
      "text/plain": [
       "   sex_MALE  region_RURAL  region_SUBURBAN  region_TOWN  married  car  \\\n",
       "0       0.0           0.0              0.0          0.0      0.0  0.0   \n",
       "1       1.0           0.0              0.0          1.0      1.0  1.0   \n",
       "2       0.0           0.0              0.0          0.0      1.0  1.0   \n",
       "3       0.0           0.0              0.0          1.0      1.0  0.0   \n",
       "4       0.0           1.0              0.0          0.0      1.0  0.0   \n",
       "\n",
       "   save_act  current_act  mortgage  pep  \n",
       "0       0.0          0.0       0.0  1.0  \n",
       "1       0.0          1.0       1.0  0.0  \n",
       "2       1.0          1.0       0.0  0.0  \n",
       "3       0.0          1.0       0.0  0.0  \n",
       "4       1.0          0.0       0.0  0.0  "
      ]
     },
     "execution_count": 8,
     "metadata": {},
     "output_type": "execute_result"
    }
   ],
   "source": [
    "# initialize class and fit our data (drop linearly dependent columns)\n",
    "onehot = OneHotEncoder(sparse = False, drop = 'first') # initialize one-hot-encoder\n",
    "onehot.fit(bank_df[obj_cols])\n",
    "\n",
    "# properly name columns\n",
    "onehot_names = onehot.get_feature_names(obj_cols).astype(str)\n",
    "onehot_names = np.char.replace(onehot_names, \".\", \"_\")\n",
    "onehot_names = np.char.replace(onehot_names, \"_YES\", \"\")\n",
    "\n",
    "# onehot.transform to create encoded variables\n",
    "# note: wrap in pd.dataframe (default returns np array)\n",
    "bank_onehot = pd.DataFrame(onehot.transform(bank_df[obj_cols]), columns = onehot_names)\n",
    "\n",
    "# preview encoded cols\n",
    "bank_onehot.head()"
   ]
  },
  {
   "cell_type": "markdown",
   "metadata": {},
   "source": [
    "Now let's split our data into features (`X`) and target (`y`)"
   ]
  },
  {
   "cell_type": "code",
   "execution_count": 9,
   "metadata": {},
   "outputs": [],
   "source": [
    "# specify numeric columns and our target\n",
    "num_cols = bank_df.select_dtypes(['int', 'float']).columns.to_list()\n",
    "target = 'pep'\n",
    "\n",
    "# combine numeric X and onehot encoded X\n",
    "X = bank_df[num_cols].copy()\n",
    "X[onehot_names] = bank_onehot.copy()\n",
    "X = X.drop([target], axis = 1) # drop target\n",
    "\n",
    "# store target separately\n",
    "y = bank_onehot[target].copy()"
   ]
  },
  {
   "cell_type": "markdown",
   "metadata": {},
   "source": [
    "Plot correlation between each feature and the target variable, sorted by absolute value.\n",
    "\n",
    "- First calculate and sort correlations\n",
    "- Then Plot tornado chart\n",
    "\n",
    "We see demographic data (income, marital status, age) tends to have strong correlation than bank data (savings account, checking acct, mortgage, car)."
   ]
  },
  {
   "cell_type": "code",
   "execution_count": 10,
   "metadata": {},
   "outputs": [],
   "source": [
    "# calculate correlations\n",
    "target_corr = X.apply(lambda x: x.corr(y))\n",
    "\n",
    "# sort series by abs val\n",
    "target_corr = target_corr.reindex(\n",
    "    target_corr.abs().sort_values(ascending = False).index\n",
    "    )"
   ]
  },
  {
   "cell_type": "markdown",
   "metadata": {},
   "source": [
    "Display plot of correlations."
   ]
  },
  {
   "cell_type": "code",
   "execution_count": 11,
   "metadata": {},
   "outputs": [
    {
     "data": {
      "image/png": "[encoded data removed]",
      "text/plain": [
       "<Figure size 576x360 with 1 Axes>"
      ]
     },
     "metadata": {
      "needs_background": "light"
     },
     "output_type": "display_data"
    }
   ],
   "source": [
    "# index contains series values\n",
    "y_labels = target_corr.index\n",
    "\n",
    "# set fig axis properies\n",
    "fig, ax = plt.subplots(figsize=(8, 5))\n",
    "ax.title.set_text('Target Correlation, by feature');\n",
    "ax.title.set_size('x-large');\n",
    "ax.set(xlabel='Correlation', ylabel='Feature');\n",
    "ax.set_yticklabels(y_labels, fontsize=14);\n",
    "\n",
    "# plot chart\n",
    "sns.barplot(x=target_corr, y=y_labels, palette=\"Blues_d\", ax = ax);"
   ]
  },
  {
   "cell_type": "markdown",
   "metadata": {},
   "source": [
    "Now let's examine the correlation *between* features.\n",
    "\n",
    "- `age` and `income` are highly correlated with each other (0.8).\n",
    "- `region` encoded columns have weak negative correlation with each other (as we'd expect)\n",
    "- `save_act` is weakly correlated with `age` and `income`. seems logical.\n",
    "- remaining features appear uncorrelated."
   ]
  },
  {
   "cell_type": "code",
   "execution_count": 12,
   "metadata": {},
   "outputs": [
    {
     "data": {
      "image/png": "[encoded data removed]",
      "text/plain": [
       "<Figure size 504x504 with 2 Axes>"
      ]
     },
     "metadata": {
      "needs_background": "light"
     },
     "output_type": "display_data"
    }
   ],
   "source": [
    "# calc correlations across features\n",
    "corr = X.corr()\n",
    "\n",
    "# plot correlations\n",
    "fig, ax = plt.subplots(figsize=(7, 7));\n",
    "ax.title.set_text('Feature Correlations');\n",
    "sns.heatmap(corr, square = True, cmap = 'Blues', fmt = '.1f', ax = ax, annot = True);"
   ]
  },
  {
   "cell_type": "markdown",
   "metadata": {},
   "source": [
    "Now let's split the data into train-validate-test sets (80-10-10).  Create a validation set for evaluation of hyper parameters.\n",
    "\n",
    "- First split into train-test @ 90-10.\n",
    "- Then split train into train-valid @ 80-10 *(0.90 * (1/9) = 0.1)*"
   ]
  },
  {
   "cell_type": "code",
   "execution_count": 13,
   "metadata": {},
   "outputs": [],
   "source": [
    "# split into train-test\n",
    "X_train, X_test, y_train, y_test = train_test_split(X, y, test_size = 0.1, random_state = 0)\n",
    "\n",
    "# split train into train-validation\n",
    "X_train, X_valid, y_train, y_valid = train_test_split(X_train, y_train, test_size = (1/9), random_state = 0)"
   ]
  },
  {
   "cell_type": "markdown",
   "metadata": {},
   "source": [
    "Verify size of each dataset"
   ]
  },
  {
   "cell_type": "code",
   "execution_count": 14,
   "metadata": {},
   "outputs": [
    {
     "name": "stdout",
     "output_type": "stream",
     "text": [
      "480 - # obs: training\n",
      "60  - # obs: validation\n",
      "60  - # obs: test\n"
     ]
    }
   ],
   "source": [
    "# verify size of train/valid/test splits\n",
    "print(len(X_train), '- # obs: training')\n",
    "print(len(X_valid), ' - # obs: validation')\n",
    "print(len(X_test), ' - # obs: test')"
   ]
  },
  {
   "cell_type": "markdown",
   "metadata": {},
   "source": [
    "## Create & Compare models using Random Forest and Decision Trees"
   ]
  },
  {
   "cell_type": "markdown",
   "metadata": {},
   "source": [
    "### Random Forest\n",
    "\n",
    "There are a number of hyper parameters that we'll want to tune when building our Random Forest model.  To pass the hyper parameters into our model input, we'll structure them as dictionaries (which `sklearn` accepts).\n",
    "\n",
    "Specifically, we'll create an array of hyperparameter dictionaries by cross-joining the sets of hyper parameters we would like to try.\n",
    "\n",
    "First, specify hyper parameters to tune.\n",
    "\n",
    "- `max_features`: max # of features included in each tree (default = 'sqrt')\n",
    "- `min_samples_leaf`: min # of observations a node can have (default = 1)\n",
    "- `max_depth`: max # of layers the tree can go to (default = unlimited)\n",
    "\n",
    "For each hyperparameter, we'll try 3 variations.\n",
    "\n",
    "- max_features = \\['sqrt', 50\\%, 75\\%\\]\n",
    "- min_samples_leaf = \\[1, 10, 30\\]\n",
    "- max_depth = \\[unlimited, 3, 5\\]\n",
    "\n",
    "*NB - code source for Cartesian product: [stackoverflow: Cartesian product of dictionaries](https://stackoverflow.com/questions/15211568/combine-python-dictionary-permutations-into-list-of-dictionaries)*"
   ]
  },
  {
   "cell_type": "code",
   "execution_count": 15,
   "metadata": {},
   "outputs": [
    {
     "name": "stdout",
     "output_type": "stream",
     "text": [
      "# of hyper param combinations to try: 27\n"
     ]
    }
   ],
   "source": [
    "# designate hyper param combinations to attempt\n",
    "hyper_space = {'max_features': ['sqrt', 0.5, 0.75], \n",
    "               'min_samples_leaf': [1, 10, 30],\n",
    "               'max_depth': [None, 3, 5]}\n",
    "\n",
    "# crossjoin (cartesian product) to create array of dicts\n",
    "hypers = [dict(zip(hyper_space, x)) for x in product(*hyper_space.values())]\n",
    "\n",
    "# model cnt\n",
    "print('# of hyper param combinations to try:', len(hypers))"
   ]
  },
  {
   "cell_type": "markdown",
   "metadata": {},
   "source": [
    "Now we'll loop through each set of hyper parameters, fitting on the train data and prediction on the validation data. With a 3x3x3 tune-grid we'll be testing out 27 models.\n",
    "\n",
    "When we initialize the random forest classifier, we'll specify to run on all processors (`n_jobs = -1`), with 50 trees in each forest (`n_estimators = 50`).\n",
    "\n",
    "In each loop, we'll store the results and keep the model with the highest accuracy on the validation set.  In total this should take 10-15 seconds to run."
   ]
  },
  {
   "cell_type": "code",
   "execution_count": 16,
   "metadata": {},
   "outputs": [],
   "source": [
    "# create empty df to store model results\n",
    "rf_results = pd.DataFrame(columns=['max_features', 'min_samples_leaf', 'max_depth', 'accuracy'])\n",
    "\n",
    "# loop through each set of hyper parameters\n",
    "for hyper in hypers:\n",
    "\n",
    "    # initialize rf classifier (** to load dict as args)\n",
    "    rf = rfc(n_jobs = -1, n_estimators = 50, verbose = False, random_state = 99, **hyper)\n",
    "    \n",
    "    # fit classifier on train set\n",
    "    rf.fit(X_train, y_train)\n",
    "    \n",
    "    # make predictions on validation set (and calculate accuracy)\n",
    "    y_valid_hat = rf.predict(X_valid)\n",
    "    accuracy = accuracy_score(y_valid, y_valid_hat)\n",
    "    \n",
    "    # store results in df\n",
    "    rf_results = rf_results.append(pd.DataFrame({\n",
    "        'max_features': hyper['max_features'], \n",
    "        'min_samples_leaf': hyper['min_samples_leaf'],\n",
    "        'max_depth': hyper['max_depth'],\n",
    "        'accuracy': [accuracy]\n",
    "    }))"
   ]
  },
  {
   "cell_type": "markdown",
   "metadata": {},
   "source": [
    "Note that the `None` value in `max_depth` is treated as `null` in our df."
   ]
  },
  {
   "cell_type": "code",
   "execution_count": 17,
   "metadata": {},
   "outputs": [],
   "source": [
    "# rf_results.info()"
   ]
  },
  {
   "cell_type": "markdown",
   "metadata": {},
   "source": [
    "We replace those `None` values in `max_depth` with the string `\"None\"` for plotting."
   ]
  },
  {
   "cell_type": "code",
   "execution_count": 18,
   "metadata": {},
   "outputs": [],
   "source": [
    "rf_results['max_depth'] = rf_results['max_depth'].fillna('None')"
   ]
  },
  {
   "cell_type": "markdown",
   "metadata": {},
   "source": [
    "Visualize the results from hyper parameter tuning.\n",
    "\n",
    "- In general, the worse models tended to be those with combinations of `depth = 3`, `max_features = 'sqrt'`, and/or `min_samples_leaf = 30`.\n",
    "- The better models, tended to have more features, greater depth, and smaller leaf nodes requirements."
   ]
  },
  {
   "cell_type": "code",
   "execution_count": 19,
   "metadata": {},
   "outputs": [
    {
     "data": {
      "image/png": "[encoded data removed]",
      "text/plain": [
       "<Figure size 1143.62x360 with 3 Axes>"
      ]
     },
     "metadata": {
      "needs_background": "light"
     },
     "output_type": "display_data"
    }
   ],
   "source": [
    "# specify axis\n",
    "ax = sns.catplot(data = rf_results, \n",
    "                 x = 'max_features', \n",
    "                 hue = 'max_depth', \n",
    "                 col = 'min_samples_leaf',\n",
    "                 y = 'accuracy', \n",
    "                 kind = 'bar',\n",
    "                 ci = None);\n",
    "\n",
    "# y axis limits\n",
    "plt.ylim(0.65, 0.95)\n",
    "\n",
    "# loop thru subplots & format axis as percentage\n",
    "from  matplotlib.ticker import PercentFormatter\n",
    "for subplot in ax.axes.flat:\n",
    "    subplot.yaxis.set_major_formatter(PercentFormatter(1))"
   ]
  },
  {
   "cell_type": "markdown",
   "metadata": {},
   "source": [
    "In fact, our best model included up to half of features in each tree with no limit on depth or leaf size."
   ]
  },
  {
   "cell_type": "code",
   "execution_count": 20,
   "metadata": {},
   "outputs": [
    {
     "data": {
      "text/html": [
       "<div>\n",
       "<style scoped>\n",
       "    .dataframe tbody tr th:only-of-type {\n",
       "        vertical-align: middle;\n",
       "    }\n",
       "\n",
       "    .dataframe tbody tr th {\n",
       "        vertical-align: top;\n",
       "    }\n",
       "\n",
       "    .dataframe thead th {\n",
       "        text-align: right;\n",
       "    }\n",
       "</style>\n",
       "<table border=\"1\" class=\"dataframe\">\n",
       "  <thead>\n",
       "    <tr style=\"text-align: right;\">\n",
       "      <th></th>\n",
       "      <th>max_features</th>\n",
       "      <th>min_samples_leaf</th>\n",
       "      <th>max_depth</th>\n",
       "      <th>accuracy</th>\n",
       "    </tr>\n",
       "  </thead>\n",
       "  <tbody>\n",
       "    <tr>\n",
       "      <th>0</th>\n",
       "      <td>0.5</td>\n",
       "      <td>1</td>\n",
       "      <td>None</td>\n",
       "      <td>0.9</td>\n",
       "    </tr>\n",
       "  </tbody>\n",
       "</table>\n",
       "</div>"
      ],
      "text/plain": [
       "  max_features min_samples_leaf max_depth  accuracy\n",
       "0          0.5                1      None       0.9"
      ]
     },
     "execution_count": 20,
     "metadata": {},
     "output_type": "execute_result"
    }
   ],
   "source": [
    "# winning model\n",
    "rf_results.nlargest(1, ['accuracy']) "
   ]
  },
  {
   "cell_type": "markdown",
   "metadata": {},
   "source": [
    "We'll re-train one last time to keep our best model from above."
   ]
  },
  {
   "cell_type": "code",
   "execution_count": 21,
   "metadata": {},
   "outputs": [
    {
     "data": {
      "text/plain": [
       "RandomForestClassifier(max_features=0.5, n_estimators=50, n_jobs=-1,\n",
       "                       random_state=99, verbose=False)"
      ]
     },
     "execution_count": 21,
     "metadata": {},
     "output_type": "execute_result"
    }
   ],
   "source": [
    "# initalize w hyper params from best model\n",
    "rf = rfc(n_jobs = -1, \n",
    "         n_estimators = 50, \n",
    "         verbose = False, \n",
    "         random_state = 99,\n",
    "         max_features = 0.5,\n",
    "         min_samples_leaf = 1,\n",
    "         max_depth = None\n",
    "        )\n",
    "\n",
    "# fit model\n",
    "rf.fit(X_train, y_train)"
   ]
  },
  {
   "cell_type": "markdown",
   "metadata": {},
   "source": [
    "### Decision Tree\n",
    "\n",
    "For our decision tree model, we'll use Gini, since that is the default loss criteria used in the random forest classifier (which we kept).\n",
    "\n",
    "Let's specify hyper parameters to tune.  We'll use the same hyper parameters as in our random forest model, except swapping `max_features` out for `max_leaf_nodes`\n",
    "\n",
    "- `max_leaf_nodes`: max # of total nodes our tree can have (default = unlimited)\n",
    "- `min_samples_leaf`: min # of observations a node can have (default = 1)\n",
    "- `max_depth`: max # of layers the tree can go to (default = unlimited)\n",
    "\n",
    "For each, we'll try 3 variations.\n",
    "\n",
    "- max_leaf_nodes = \\[5, 15, 25\\]\n",
    "- min_samples_leaf = \\[1, 10, 30\\]\n",
    "- max_depth = \\[unlimited, 3, 5\\]"
   ]
  },
  {
   "cell_type": "code",
   "execution_count": 22,
   "metadata": {},
   "outputs": [
    {
     "name": "stdout",
     "output_type": "stream",
     "text": [
      "# of hyper param combinations to try: 27\n"
     ]
    }
   ],
   "source": [
    "# designate hyper param combinations to attempt\n",
    "hyper_space = {'max_leaf_nodes': [5, 15, 25], \n",
    "               'min_samples_leaf': [1, 10, 30],\n",
    "               'max_depth': [None, 3, 5]}\n",
    "\n",
    "# crossjoin (cartesian product) to create array of dicts\n",
    "hypers = [dict(zip(hyper_space, x)) for x in product(*hyper_space.values())]\n",
    "\n",
    "# model cnt\n",
    "print('# of hyper param combinations to try:', len(hypers))"
   ]
  },
  {
   "attachments": {},
   "cell_type": "markdown",
   "metadata": {},
   "source": [
    "Similarly to tuning our Random Forest, we'll loop through our hyperparameters (fitting on train, and predicting on validation).\n",
    "\n",
    "When we initialize the classifier, we'll only specify which loss function we want to use (Gini).\n",
    "\n",
    "We'll store the results as we go and keep the model with the highest accuracy on the validation set.  This should run instantly (much less computation than Random Forest since each model is only 1 tree... not a whole forest of them!)."
   ]
  },
  {
   "cell_type": "code",
   "execution_count": 23,
   "metadata": {},
   "outputs": [],
   "source": [
    "# create empty df to store model results\n",
    "tree_results = pd.DataFrame(columns=['max_leaf_nodes', 'min_samples_leaf', 'max_depth', 'accuracy'])\n",
    "\n",
    "# loop through each set of hyper parameters\n",
    "for hyper in hypers:\n",
    "\n",
    "    # initialize tree classifier (** to load dict as args)\n",
    "    tree = DecisionTreeClassifier(criterion = 'gini', random_state = 99, **hyper)\n",
    "    \n",
    "    # fit classifier on train set\n",
    "    tree.fit(X_train, y_train)\n",
    "    \n",
    "    # make predictions on validation set (and calculate accuracy)\n",
    "    y_valid_hat = tree.predict(X_valid)\n",
    "    accuracy = accuracy_score(y_valid, y_valid_hat)\n",
    "    \n",
    "    # store results in df\n",
    "    tree_results = tree_results.append(pd.DataFrame({\n",
    "        'max_leaf_nodes': hyper['max_leaf_nodes'], \n",
    "        'min_samples_leaf': hyper['min_samples_leaf'],\n",
    "        'max_depth': hyper['max_depth'],\n",
    "        'accuracy': [accuracy]\n",
    "    }))"
   ]
  },
  {
   "cell_type": "markdown",
   "metadata": {},
   "source": [
    "Here we'll also need to replace `None` values in `max_depth` with the string\"`None\"` (otherwise they are treated as `null`)."
   ]
  },
  {
   "cell_type": "code",
   "execution_count": 24,
   "metadata": {},
   "outputs": [],
   "source": [
    "tree_results['max_depth'] = tree_results['max_depth'].fillna('None')"
   ]
  },
  {
   "cell_type": "markdown",
   "metadata": {},
   "source": [
    "Let's also visualize these results.\n",
    "\n",
    "- Unlike in the random forest tuning, it appears that relative accuracy associated with the hyper parameter values are sometimes dependent on the *other* hyper parameter values.\n",
    "  - Ex: when limiting to 5 nodes, `max_depth = 3` works best.  However, at other hyper parameter values, that limitation on depth is no longer helpful.\n",
    "\n",
    "- In general, it appears that allowing more depth, nodes and smaller leaf sizes works best."
   ]
  },
  {
   "cell_type": "code",
   "execution_count": 25,
   "metadata": {},
   "outputs": [
    {
     "data": {
      "image/png": "[encoded data removed]",
      "text/plain": [
       "<Figure size 1143.62x360 with 3 Axes>"
      ]
     },
     "metadata": {
      "needs_background": "light"
     },
     "output_type": "display_data"
    }
   ],
   "source": [
    "# specify axis\n",
    "ax = sns.catplot(data = tree_results, \n",
    "                 x = 'max_leaf_nodes', \n",
    "                 hue = 'max_depth', \n",
    "                 col = 'min_samples_leaf',\n",
    "                 y = 'accuracy', \n",
    "                 kind = 'bar',\n",
    "                 ci = None);\n",
    "\n",
    "# y axis limits\n",
    "plt.ylim(0.50, 0.90)\n",
    "\n",
    "# loop thru subplots & format axis as percentage\n",
    "from  matplotlib.ticker import PercentFormatter\n",
    "for subplot in ax.axes.flat:\n",
    "    subplot.yaxis.set_major_formatter(PercentFormatter(1))"
   ]
  },
  {
   "cell_type": "markdown",
   "metadata": {},
   "source": [
    "And sure enough, our best model was the one seeking the most flexibility."
   ]
  },
  {
   "cell_type": "code",
   "execution_count": 26,
   "metadata": {},
   "outputs": [
    {
     "data": {
      "text/html": [
       "<div>\n",
       "<style scoped>\n",
       "    .dataframe tbody tr th:only-of-type {\n",
       "        vertical-align: middle;\n",
       "    }\n",
       "\n",
       "    .dataframe tbody tr th {\n",
       "        vertical-align: top;\n",
       "    }\n",
       "\n",
       "    .dataframe thead th {\n",
       "        text-align: right;\n",
       "    }\n",
       "</style>\n",
       "<table border=\"1\" class=\"dataframe\">\n",
       "  <thead>\n",
       "    <tr style=\"text-align: right;\">\n",
       "      <th></th>\n",
       "      <th>max_leaf_nodes</th>\n",
       "      <th>min_samples_leaf</th>\n",
       "      <th>max_depth</th>\n",
       "      <th>accuracy</th>\n",
       "    </tr>\n",
       "  </thead>\n",
       "  <tbody>\n",
       "    <tr>\n",
       "      <th>0</th>\n",
       "      <td>25</td>\n",
       "      <td>1</td>\n",
       "      <td>None</td>\n",
       "      <td>0.883333</td>\n",
       "    </tr>\n",
       "  </tbody>\n",
       "</table>\n",
       "</div>"
      ],
      "text/plain": [
       "  max_leaf_nodes min_samples_leaf max_depth  accuracy\n",
       "0             25                1      None  0.883333"
      ]
     },
     "execution_count": 26,
     "metadata": {},
     "output_type": "execute_result"
    }
   ],
   "source": [
    "# winning model\n",
    "tree_results.nlargest(1, ['accuracy']) "
   ]
  },
  {
   "cell_type": "markdown",
   "metadata": {},
   "source": [
    "Re-train once more to fit to our best model."
   ]
  },
  {
   "cell_type": "code",
   "execution_count": 27,
   "metadata": {},
   "outputs": [
    {
     "data": {
      "text/plain": [
       "DecisionTreeClassifier(max_leaf_nodes=25, random_state=99)"
      ]
     },
     "execution_count": 27,
     "metadata": {},
     "output_type": "execute_result"
    }
   ],
   "source": [
    "# initalize w hyper params from best model\n",
    "tree = DecisionTreeClassifier(\n",
    "    criterion = 'gini',\n",
    "    random_state = 99, \n",
    "    max_leaf_nodes = 25,\n",
    "    min_samples_leaf = 1,\n",
    "    max_depth = None\n",
    "    )\n",
    "\n",
    "# fit model\n",
    "tree.fit(X_train, y_train)"
   ]
  },
  {
   "cell_type": "markdown",
   "metadata": {},
   "source": [
    "### Compare the models"
   ]
  },
  {
   "cell_type": "markdown",
   "metadata": {},
   "source": [
    "#### Validation Accuracy\n",
    "\n",
    "Earlier we looked individually at the best performing models on the validation set.  Now let's bring that comparison side-by-side.\n",
    "\n",
    "We see both models did better at max depth and min leaf size.  The random forest only built each tree using half of our features, while the decision tree capped the max # of nodes at 25 (while using **all** features).\n",
    "\n",
    "We see that on our validation set, the Random Forest performed slightly better."
   ]
  },
  {
   "cell_type": "code",
   "execution_count": 28,
   "metadata": {},
   "outputs": [
    {
     "name": "stdout",
     "output_type": "stream",
     "text": [
      "\n",
      "Random Forest\n"
     ]
    },
    {
     "data": {
      "text/html": [
       "<div>\n",
       "<style scoped>\n",
       "    .dataframe tbody tr th:only-of-type {\n",
       "        vertical-align: middle;\n",
       "    }\n",
       "\n",
       "    .dataframe tbody tr th {\n",
       "        vertical-align: top;\n",
       "    }\n",
       "\n",
       "    .dataframe thead th {\n",
       "        text-align: right;\n",
       "    }\n",
       "</style>\n",
       "<table border=\"1\" class=\"dataframe\">\n",
       "  <thead>\n",
       "    <tr style=\"text-align: right;\">\n",
       "      <th></th>\n",
       "      <th>max_features</th>\n",
       "      <th>min_samples_leaf</th>\n",
       "      <th>max_depth</th>\n",
       "      <th>accuracy</th>\n",
       "    </tr>\n",
       "  </thead>\n",
       "  <tbody>\n",
       "    <tr>\n",
       "      <th>0</th>\n",
       "      <td>0.5</td>\n",
       "      <td>1</td>\n",
       "      <td>None</td>\n",
       "      <td>0.9</td>\n",
       "    </tr>\n",
       "  </tbody>\n",
       "</table>\n",
       "</div>"
      ],
      "text/plain": [
       "  max_features min_samples_leaf max_depth  accuracy\n",
       "0          0.5                1      None       0.9"
      ]
     },
     "metadata": {},
     "output_type": "display_data"
    },
    {
     "name": "stdout",
     "output_type": "stream",
     "text": [
      "\n",
      "Decision Tree\n"
     ]
    },
    {
     "data": {
      "text/html": [
       "<div>\n",
       "<style scoped>\n",
       "    .dataframe tbody tr th:only-of-type {\n",
       "        vertical-align: middle;\n",
       "    }\n",
       "\n",
       "    .dataframe tbody tr th {\n",
       "        vertical-align: top;\n",
       "    }\n",
       "\n",
       "    .dataframe thead th {\n",
       "        text-align: right;\n",
       "    }\n",
       "</style>\n",
       "<table border=\"1\" class=\"dataframe\">\n",
       "  <thead>\n",
       "    <tr style=\"text-align: right;\">\n",
       "      <th></th>\n",
       "      <th>max_leaf_nodes</th>\n",
       "      <th>min_samples_leaf</th>\n",
       "      <th>max_depth</th>\n",
       "      <th>accuracy</th>\n",
       "    </tr>\n",
       "  </thead>\n",
       "  <tbody>\n",
       "    <tr>\n",
       "      <th>0</th>\n",
       "      <td>25</td>\n",
       "      <td>1</td>\n",
       "      <td>None</td>\n",
       "      <td>0.883333</td>\n",
       "    </tr>\n",
       "  </tbody>\n",
       "</table>\n",
       "</div>"
      ],
      "text/plain": [
       "  max_leaf_nodes min_samples_leaf max_depth  accuracy\n",
       "0             25                1      None  0.883333"
      ]
     },
     "metadata": {},
     "output_type": "display_data"
    }
   ],
   "source": [
    "# best random forest model\n",
    "print(\"\\nRandom Forest\")\n",
    "display(rf_results.nlargest(1, ['accuracy'])) \n",
    "\n",
    "# best decision tree model\n",
    "print(\"\\nDecision Tree\")\n",
    "display(tree_results.nlargest(1, ['accuracy']))"
   ]
  },
  {
   "cell_type": "markdown",
   "metadata": {},
   "source": [
    "#### Feature Importance\n",
    "\n",
    "First, we'll store the feature importances from each model into a dataframe and sort.  Then we'll compare them to each other."
   ]
  },
  {
   "cell_type": "code",
   "execution_count": 29,
   "metadata": {},
   "outputs": [],
   "source": [
    "# store random forest feature importance\n",
    "rf_var_imp = pd.DataFrame({\"feature\": X_train.columns, \n",
    "                           \"importance\": rf.feature_importances_})\n",
    "# sort (for plotting)\n",
    "rf_var_imp = rf_var_imp.sort_values(by = \"importance\", ascending = False)"
   ]
  },
  {
   "cell_type": "code",
   "execution_count": 30,
   "metadata": {},
   "outputs": [],
   "source": [
    "# store decision tree feature importance\n",
    "tree_var_imp = pd.DataFrame({\"feature\": X_train.columns,\n",
    "                             \"importance\": tree.tree_.compute_feature_importances()})\n",
    "# sort (for plotting)\n",
    "tree_var_imp = tree_var_imp.sort_values(by = \"importance\", ascending = False)"
   ]
  },
  {
   "cell_type": "markdown",
   "metadata": {},
   "source": [
    "#### And now compare feature importance.  Let's start with similarities.\n",
    "\n",
    "- Both models ranked `income` and `children` (respectively) as their most important features.  There's a noticeable drop off in importance of any given feature after that (for both models).\n",
    "- `married` and `mortgage` seem to have similar importance in both models (4th, 5th) as does the onehot `region_TOWN` feature (7th).\n",
    "\n",
    "#### Comparing their differences is also interesting. The two main differences are:\n",
    "\n",
    "- The models have swapped importance of `age` and `save_act` (with Random Forest finding `age` more important)\n",
    "- Random Forest was able to use *all* of the features to improve the model, while the Decision Tree ended up dropping about 5 features (~40% of them)\n",
    "\n",
    "#### What's driving these differences?\n",
    "\n",
    "If we recall from our within-feature correlation heatmap (near the start), age & income were pretty highly correlated (0.8).  It turns out that `income` is a modestly better predictor. \n",
    "\n",
    "Since random forest only has 50% of features in the model at any given time, sometimes `age` was pretty helpful (the times when `income` wasn't also included).  However, in the decision tree (where all features are included), `income` gets the top node and `age` is relegated to near the bottom.\n",
    "\n",
    "Along those same veins, random forest was able to glean more info out of the less important features from the trees in its forest that *didn't* have the best predictors in them."
   ]
  },
  {
   "cell_type": "code",
   "execution_count": 31,
   "metadata": {},
   "outputs": [
    {
     "data": {
      "image/png": "[encoded data removed]",
      "text/plain": [
       "<Figure size 1152x360 with 2 Axes>"
      ]
     },
     "metadata": {
      "needs_background": "light"
     },
     "output_type": "display_data"
    }
   ],
   "source": [
    "# set figure, axis properties\n",
    "fig, ax = plt.subplots(ncols = 2, nrows = 1)\n",
    "fig.set_size_inches(16, 5)\n",
    "fig.tight_layout(w_pad = 12)\n",
    "\n",
    "# rf plot\n",
    "sns.barplot(x = \"importance\", y = \"feature\", data = rf_var_imp, color = \"lightblue\", ax = ax[0])\n",
    "ax[0].title.set_text('Feature Importance: Random Forest');\n",
    "\n",
    "# dec tree plot\n",
    "sns.barplot(x = \"importance\", y = \"feature\", data = tree_var_imp, color = \"lightblue\", ax = ax[1])\n",
    "ax[1].title.set_text('Feature Importance: Decision Tree');"
   ]
  },
  {
   "cell_type": "markdown",
   "metadata": {},
   "source": [
    "#### Test Accuracy"
   ]
  },
  {
   "cell_type": "markdown",
   "metadata": {},
   "source": [
    "We see accuracy on the test set is also slightly higher for the random forest model (90% vs 88.3%).  From the confusion matrices, we also see that it's higher across both classes, but most of the benefit comes from more accurate predictions on the positive class (93% vs 90%)."
   ]
  },
  {
   "cell_type": "code",
   "execution_count": 32,
   "metadata": {},
   "outputs": [
    {
     "name": "stdout",
     "output_type": "stream",
     "text": [
      "Random Forest accuracy =  0.9\n",
      "Decision Tree accuracy =  0.883\n"
     ]
    }
   ],
   "source": [
    "# make predictions on test set - random forest\n",
    "y_test_hat_rf = rf.predict(X_test)\n",
    "accuracy_rf = accuracy_score(y_test, y_test_hat_rf)\n",
    "\n",
    "# make predictions on test set - decision tree\n",
    "y_test_hat_tree = tree.predict(X_test)\n",
    "accuracy_tree = accuracy_score(y_test, y_test_hat_tree)\n",
    "\n",
    "# print results\n",
    "print('Random Forest accuracy = ', round(accuracy_rf, 3))\n",
    "print('Decision Tree accuracy = ', round(accuracy_tree, 3))"
   ]
  },
  {
   "cell_type": "markdown",
   "metadata": {},
   "source": [
    "Define function to cleanly present the Confusion Matrix on predictions"
   ]
  },
  {
   "cell_type": "code",
   "execution_count": 33,
   "metadata": {},
   "outputs": [],
   "source": [
    "def format_cm(y, y_hat, title, labels, norm):\n",
    "    \n",
    "    # store (normalized) confusion matrix\n",
    "    cm = np.round(confusion_matrix(y, y_hat, normalize = norm), 3)\n",
    "\n",
    "    # configure confusion matrix plot\n",
    "    fig = plt.figure()\n",
    "    ax = fig.add_subplot(111)\n",
    "    cax = ax.matshow(cm)\n",
    "    plt.title(title)\n",
    "    fig.colorbar(cax)\n",
    "    ax.set_xticklabels([''] + labels)\n",
    "    ax.set_yticklabels([''] + labels)\n",
    "    plt.xlabel('Predicted')\n",
    "    plt.ylabel('Actual')\n",
    "\n",
    "    # show plot and confusion matrix\n",
    "    plt.show()\n",
    "    print(cm)"
   ]
  },
  {
   "cell_type": "code",
   "execution_count": 34,
   "metadata": {
    "scrolled": true
   },
   "outputs": [
    {
     "data": {
      "image/png": "[encoded data removed]",
      "text/plain": [
       "<Figure size 432x288 with 2 Axes>"
      ]
     },
     "metadata": {
      "needs_background": "light"
     },
     "output_type": "display_data"
    },
    {
     "name": "stdout",
     "output_type": "stream",
     "text": [
      "[[0.871 0.069]\n",
      " [0.129 0.931]]\n"
     ]
    }
   ],
   "source": [
    "# confusion matrix: random forest\n",
    "format_cm(y_test, y_test_hat_rf, \"Investment Purchased\", [\"No\", \"Yes\"], \"pred\")"
   ]
  },
  {
   "cell_type": "code",
   "execution_count": 35,
   "metadata": {},
   "outputs": [
    {
     "data": {
      "image/png": "[encoded data removed]",
      "text/plain": [
       "<Figure size 432x288 with 2 Axes>"
      ]
     },
     "metadata": {
      "needs_background": "light"
     },
     "output_type": "display_data"
    },
    {
     "name": "stdout",
     "output_type": "stream",
     "text": [
      "[[0.867 0.1  ]\n",
      " [0.133 0.9  ]]\n"
     ]
    }
   ],
   "source": [
    "# confusion matrix: decision tree\n",
    "format_cm(y_test, y_test_hat_tree, \"Investment Purchased\", [\"No\", \"Yes\"], \"pred\")"
   ]
  },
  {
   "cell_type": "markdown",
   "metadata": {},
   "source": [
    "## Summary"
   ]
  },
  {
   "cell_type": "markdown",
   "metadata": {},
   "source": [
    "We have seen that both Random Forest and Decision Tree models predict well on our test data (90%, 88% respectively).  We've also seen the Random Forest model do a better job at predicting positive cases.\n",
    "\n",
    "The difference is slight, but the Random Forest model *does* predict better.  It also incorporates more of the available features into the model.\n",
    "\n",
    "My recommendation on model choice to the bank would be based on the sales channel they are using for their campaign.  If a list of prospects are provided up-front and can be scored in advance, then I would recommend the Random Forest as it predicts a bit better.\n",
    "\n",
    "If the campaign is being run through a bank branch or call center, where staff are responding to customers as they approach then I would recommend the Decision Tree model.  It is a much simpler model, which can be used in real-time by asking the customer a few simple yes-no questions (which they may already be taking in anyway).  The prediction rate is slightly worse, but false positives are not particularly costly and more than made up for in simplicity."
   ]
  }
 ],
 "metadata": {
  "kernelspec": {
   "display_name": "Python 3",
   "language": "python",
   "name": "python3"
  },
  "language_info": {
   "codemirror_mode": {
    "name": "ipython",
    "version": 3
   },
   "file_extension": ".py",
   "mimetype": "text/x-python",
   "name": "python",
   "nbconvert_exporter": "python",
   "pygments_lexer": "ipython3",
   "version": "3.6.10"
  }
 },
 "nbformat": 4,
 "nbformat_minor": 4
}
